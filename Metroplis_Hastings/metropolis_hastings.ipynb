{
 "cells": [
  {
   "cell_type": "code",
   "execution_count": 14,
   "metadata": {
    "collapsed": false
   },
   "outputs": [
    {
     "name": "stdout",
     "output_type": "stream",
     "text": [
      "a parameter= 0.534016202883\n",
      "b parameter= 0.941185399646\n",
      "variance of a: 0.0193523030776\n",
      "variance of b: 0.0583518147785\n",
      "std dev of a: 0.000374511634406\n",
      "std dev of b: 0.00340493428794\n",
      "covariance of a and b: -0.000554202696038\n",
      "correlation coefficient: -0.490774071211\n"
     ]
    },
    {
     "data": {
      "image/png": "[encoded data removed]",
      "text/plain": [
       "<matplotlib.figure.Figure at 0x105e78690>"
      ]
     },
     "metadata": {},
     "output_type": "display_data"
    },
    {
     "data": {
      "image/png": "[encoded data removed]",
      "text/plain": [
       "<matplotlib.figure.Figure at 0x105a19ad0>"
      ]
     },
     "metadata": {},
     "output_type": "display_data"
    },
    {
     "data": {
      "image/png": "[encoded data removed]",
      "text/plain": [
       "<matplotlib.figure.Figure at 0x105a9e790>"
      ]
     },
     "metadata": {},
     "output_type": "display_data"
    }
   ],
   "source": [
    "%matplotlib inline\n",
    "import numpy as np\n",
    "import math as math\n",
    "import matplotlib.pyplot as plt\n",
    "\n",
    "x,y,sigma = np.loadtxt(\"data1.dat.txt\",unpack=True)\n",
    "a=np.linspace(0,1,num=100)\n",
    "da=1.0/100.0\n",
    "db=1.0/100.0\n",
    "b=np.linspace(0,1,num=100)\n",
    "prob = np.zeros(shape=(100,100))\n",
    "expa=0\n",
    "expb=0\n",
    "\n",
    "\n",
    "for i in range(len(a)):\n",
    "    for j in range(len(b)):\n",
    "        probfxn=1\n",
    "        for k in range(len(x)):\n",
    "            probfxn *=(1/(np.sqrt(2*3.14)*sigma[k]))*math.exp(-((y[k]-(a[i]*x[k]+b[j]))**2)/(2*sigma[k]**2))\n",
    "        prob[i][j]=probfxn\n",
    "        \n",
    "        \n",
    "        \n",
    "\n",
    "vol=0\n",
    "for i in range(len(a)):\n",
    "    for j in range(len(b)):\n",
    "        vol+=db*prob[i][j]*da\n",
    "\n",
    "\n",
    "for i in range(len(a)):    \n",
    "    for j in range(len(b)):\n",
    "        expa += a[i]*prob[i][j]*db*da/vol \n",
    "        expb += b[i]*prob[j][i]*db*da/vol\n",
    "        \n",
    "#plotting the probabilty\n",
    "\n",
    "plt.figure(1)\n",
    "CS = plt.contour(b, a, prob)\n",
    "\n",
    "\n",
    "        \n",
    "        \n",
    "        \n",
    "\n",
    "print 'a parameter=',expa\n",
    "print 'b parameter=',expb\n",
    "\n",
    "#0.0023\n",
    "#0.0037\n",
    "\n",
    "plt.figure(2)\n",
    "xi,yi,sigi = np.loadtxt(\"data1.dat.txt\",unpack=True)\n",
    "plt.plot(xi,yi,'o')\n",
    "plt.errorbar(xi,yi,sigi,fmt='o')\n",
    "\n",
    "\n",
    "xvar=np.linspace(0,10,100)\n",
    "\n",
    "expectation_a=expa\n",
    "expectation_b=expb\n",
    "model=expectation_a*xvar+expectation_b\n",
    "\n",
    "plt.plot(xvar, model)\n",
    "\n",
    "\n",
    "siga=0\n",
    "sigb=0\n",
    "\n",
    "for i in range(len(a)):    \n",
    "    for j in range(len(b)):\n",
    "        siga += (a[i]-expa)**2*prob[i][j]*db*da/vol \n",
    "        sigb += (b[i]-expb)**2*prob[j][i]*db*da/vol\n",
    "print 'variance of a:', siga**.5\n",
    "print 'variance of b:',sigb**.5\n",
    "\n",
    "print 'std dev of a:', siga\n",
    "print 'std dev of b:', sigb\n",
    "covab=0\n",
    "\n",
    "for i in range(len(a)):    \n",
    "    for j in range(len(b)):\n",
    "        covab += (a[i]-expa)*(b[j]-expb)*prob[i][j]*db*da/vol \n",
    "        \n",
    "print 'covariance of a and b:', covab\n",
    "\n",
    "\n",
    "pco=covab/(siga*sigb)**.5\n",
    "print'correlation coefficient:', pco\n",
    "\n",
    "def liklihood(x, y):\n",
    "    return 0.7*np.exp(-100*((x - 0.2)**2 + (y - 0.3)**2)) + 0.3*np.exp(-333*((x + 0.5)**2 + (y + 0.1)**2)) + np.exp(-500*((x - 0.5)**2 + (y + 0.8)**2))\n",
    "\n",
    "#metropolis algorithmn implementation for the following liklihood function: \n",
    "#f(x,y)= 0.7exp[-100((x-0,2)**2+(y-0.3)**2]+0.3exp[-333((x+0.5)**2+(y+0.1)**2)]+exp[-500(((x=0.5)**2+(y+0.8)**2)]\n",
    "\n",
    "xnew=[]\n",
    "ynew=[]\n",
    "old_pos=np.zeros(2)\n",
    "old_prob=liklihood(old_pos[0],old_pos[1])\n",
    "\n",
    "for n in range(10000):\n",
    "    #walk a new step randomly\n",
    "    new_pos=old_pos+np.random.standard_cauchy(size=2)\n",
    "    new_prob=liklihood(new_pos[0],new_pos[1])\n",
    "    \n",
    "    #pick a random number from [0,1] on a uniform distribtuion\n",
    "    r=np.random.rand()\n",
    "\n",
    "    if r<= new_prob/old_prob:\n",
    "        old_pos=new_pos\n",
    "        old_prob=new_prob\n",
    "    xnew.append(old_pos[0])\n",
    "    ynew.append(old_pos[1])\n",
    "    \n",
    "\n",
    "    \n",
    "\n",
    "\n",
    "#plot the monte carlo simulation on top of the liklihood function\n",
    "\n",
    "plt.figure(3)\n",
    "dx = 0.01\n",
    "x = np.arange(np.min(xnew)-0.3, np.max(xnew)+0.3, dx)\n",
    "y = np.arange(np.min(xnew)-0.3, np.max(xnew)+0.3, dx)\n",
    "X, Y = np.meshgrid(x, y)\n",
    "Z = liklihood(X, Y)\n",
    "plt.plot(xnew,ynew,'o',markersize=0.5)\n",
    "CS = plt.contour(X, Y, Z)\n",
    "plt.show()\n",
    "\n",
    "\n",
    "\n"
   ]
  },
  {
   "cell_type": "code",
   "execution_count": null,
   "metadata": {
    "collapsed": true
   },
   "outputs": [],
   "source": []
  },
  {
   "cell_type": "code",
   "execution_count": null,
   "metadata": {
    "collapsed": true
   },
   "outputs": [],
   "source": []
  }
 ],
 "metadata": {
  "kernelspec": {
   "display_name": "Python 2",
   "language": "python",
   "name": "python2"
  },
  "language_info": {
   "codemirror_mode": {
    "name": "ipython",
    "version": 2
   },
   "file_extension": ".py",
   "mimetype": "text/x-python",
   "name": "python",
   "nbconvert_exporter": "python",
   "pygments_lexer": "ipython2",
   "version": "2.7.12"
  }
 },
 "nbformat": 4,
 "nbformat_minor": 0
}
